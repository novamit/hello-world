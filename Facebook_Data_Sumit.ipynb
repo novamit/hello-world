{
  "nbformat": 4,
  "nbformat_minor": 0,
  "metadata": {
    "colab": {
      "name": "Facebook_Data.ipynb",
      "version": "0.3.2",
      "provenance": [],
      "collapsed_sections": []
    }
  },
  "cells": [
    {
      "cell_type": "markdown",
      "metadata": {
        "id": "view-in-github",
        "colab_type": "text"
      },
      "source": [
        "[View in Colaboratory](https://colab.research.google.com/github/novamit/hello-world/blob/master/Facebook_Data_Sumit.ipynb)"
      ]
    },
    {
      "metadata": {
        "id": "Rt2b9PUHs5k_",
        "colab_type": "text"
      },
      "cell_type": "markdown",
      "source": [
        "**Analyze the Facebook data**"
      ]
    },
    {
      "metadata": {
        "id": "u8v3DsAxtLfa",
        "colab_type": "text"
      },
      "cell_type": "markdown",
      "source": [
        "**Exploration ideas:**\n",
        "\n",
        "**Date of birth analysis -** First identify the outliers and eliminate those users from dataset. Now divide the age in multiple buckets and analyze which age group is more active on facebook. Further, we need to analyze which age group have more male or female who are active on facebook.\n",
        "\n",
        "**Friend count analysis -** First identify the outliers and the users who have no friends and eleminate from dataset. Now identify which age group has more friends. Further, we can analyze which age group of male or female have more friends. Also, identify which age group has 100+ friends.\n",
        "Find out which age group has initiated more friend request and futher analyze among male and female.\n",
        "\n",
        "**Tenure analysis -** Analyze the trend YoY of new users onboard and also analyze of trend YoY of new male and female users onboard.\n",
        "\n",
        "**Like analysis -**\n",
        "\n"
      ]
    },
    {
      "metadata": {
        "id": "iy-9adG3yCur",
        "colab_type": "text"
      },
      "cell_type": "markdown",
      "source": [
        "### **Upload and understanding of facebook data**"
      ]
    },
    {
      "metadata": {
        "id": "daL7myg6sXLw",
        "colab_type": "code",
        "colab": {
          "base_uri": "https://localhost:8080/",
          "height": 258
        },
        "outputId": "409b3c5f-a542-4e1b-b07a-fe6cc2a7dbba"
      },
      "cell_type": "code",
      "source": [
        "!pip install pandas-profiling"
      ],
      "execution_count": 1,
      "outputs": [
        {
          "output_type": "stream",
          "text": [
            "Requirement already satisfied: pandas-profiling in /usr/local/lib/python2.7/dist-packages (1.4.1)\r\n",
            "Requirement already satisfied: jinja2>=2.8 in /usr/local/lib/python2.7/dist-packages (from pandas-profiling) (2.10)\r\n",
            "Requirement already satisfied: matplotlib>=1.4 in /usr/local/lib/python2.7/dist-packages (from pandas-profiling) (2.1.2)\r\n",
            "Requirement already satisfied: pandas>=0.19 in /usr/local/lib/python2.7/dist-packages (from pandas-profiling) (0.22.0)\r\n",
            "Requirement already satisfied: six>=1.9 in /usr/local/lib/python2.7/dist-packages (from pandas-profiling) (1.11.0)\r\n",
            "Requirement already satisfied: MarkupSafe>=0.23 in /usr/local/lib/python2.7/dist-packages (from jinja2>=2.8->pandas-profiling) (1.0)\r\n",
            "Requirement already satisfied: cycler>=0.10 in /usr/local/lib/python2.7/dist-packages (from matplotlib>=1.4->pandas-profiling) (0.10.0)\r\n",
            "Requirement already satisfied: numpy>=1.7.1 in /usr/local/lib/python2.7/dist-packages (from matplotlib>=1.4->pandas-profiling) (1.14.3)\r\n",
            "Requirement already satisfied: backports.functools-lru-cache in /usr/local/lib/python2.7/dist-packages (from matplotlib>=1.4->pandas-profiling) (1.5)\r\n",
            "Requirement already satisfied: subprocess32 in /usr/local/lib/python2.7/dist-packages (from matplotlib>=1.4->pandas-profiling) (3.5.0)\r\n",
            "Requirement already satisfied: pytz in /usr/local/lib/python2.7/dist-packages (from matplotlib>=1.4->pandas-profiling) (2018.4)\r\n",
            "Requirement already satisfied: python-dateutil>=2.1 in /usr/local/lib/python2.7/dist-packages (from matplotlib>=1.4->pandas-profiling) (2.5.3)\n",
            "Requirement already satisfied: pyparsing!=2.0.4,!=2.1.2,!=2.1.6,>=2.0.1 in /usr/local/lib/python2.7/dist-packages (from matplotlib>=1.4->pandas-profiling) (2.2.0)\n"
          ],
          "name": "stdout"
        }
      ]
    },
    {
      "metadata": {
        "id": "0ZvjVxyGvZxV",
        "colab_type": "code",
        "colab": {}
      },
      "cell_type": "code",
      "source": [
        "import numpy as np\n",
        "import pandas as pd\n",
        "import pandas_profiling"
      ],
      "execution_count": 0,
      "outputs": []
    },
    {
      "metadata": {
        "id": "UJnZTu3E81gY",
        "colab_type": "code",
        "colab": {}
      },
      "cell_type": "code",
      "source": [
        "import matplotlib.pyplot as plt\n",
        "import seaborn as sns\n",
        "%matplotlib inline"
      ],
      "execution_count": 0,
      "outputs": []
    },
    {
      "metadata": {
        "id": "s81Fl_wKwoBi",
        "colab_type": "code",
        "colab": {}
      },
      "cell_type": "code",
      "source": [
        "from google.colab import files\n",
        "import io\n"
      ],
      "execution_count": 0,
      "outputs": []
    },
    {
      "metadata": {
        "id": "8RMpgc11Wo_Z",
        "colab_type": "code",
        "colab": {
          "resources": {
            "http://localhost:8080/nbextensions/google.colab/files.js": {
              "data": "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",
              "ok": true,
              "headers": [
                [
                  "content-type",
                  "application/javascript"
                ]
              ],
              "status": 200,
              "status_text": ""
            }
          },
          "base_uri": "https://localhost:8080/",
          "height": 72
        },
        "outputId": "5b9c372b-2833-4cc0-8ed6-8826b1bdee23"
      },
      "cell_type": "code",
      "source": [
        "uploaded = files.upload()\n",
        "facebook_data = pd.read_table(io.StringIO(uploaded['pseudo_facebook.tsv'].decode('utf-8')))"
      ],
      "execution_count": 6,
      "outputs": [
        {
          "output_type": "display_data",
          "data": {
            "text/plain": [
              "<IPython.core.display.HTML object>"
            ],
            "text/html": [
              "\n",
              "     <input type=\"file\" id=\"files-eaf08a3c-9ffb-4c39-84b0-2e5fbdc5a451\" name=\"files[]\" multiple disabled />\n",
              "     <output id=\"result-eaf08a3c-9ffb-4c39-84b0-2e5fbdc5a451\">\n",
              "      Upload widget is only available when the cell has been executed in the\n",
              "      current browser session. Please rerun this cell to enable.\n",
              "      </output>\n",
              "      <script src=\"/nbextensions/google.colab/files.js\"></script> "
            ]
          },
          "metadata": {
            "tags": []
          }
        },
        {
          "output_type": "stream",
          "text": [
            "Saving pseudo_facebook.tsv to pseudo_facebook (1).tsv\n"
          ],
          "name": "stdout"
        }
      ]
    },
    {
      "metadata": {
        "id": "RqrfQnqc13DE",
        "colab_type": "code",
        "colab": {}
      },
      "cell_type": "code",
      "source": [
        "report = pandas_profiling.ProfileReport(facebook_data)\n",
        "report.to_file('facebook_data.html')\n",
        "files.download('facebook_data.html')"
      ],
      "execution_count": 0,
      "outputs": []
    },
    {
      "metadata": {
        "id": "kKaCqjgcBqZ9",
        "colab_type": "code",
        "colab": {
          "base_uri": "https://localhost:8080/",
          "height": 357
        },
        "outputId": "a726b283-ffdc-4d7e-fbb4-1c0135aee174"
      },
      "cell_type": "code",
      "source": [
        "facebook_data.info()"
      ],
      "execution_count": 7,
      "outputs": [
        {
          "output_type": "stream",
          "text": [
            "<class 'pandas.core.frame.DataFrame'>\n",
            "RangeIndex: 99003 entries, 0 to 99002\n",
            "Data columns (total 15 columns):\n",
            "userid                   99003 non-null int64\n",
            "age                      99003 non-null int64\n",
            "dob_day                  99003 non-null int64\n",
            "dob_year                 99003 non-null int64\n",
            "dob_month                99003 non-null int64\n",
            "gender                   98828 non-null object\n",
            "tenure                   99001 non-null float64\n",
            "friend_count             99003 non-null int64\n",
            "friendships_initiated    99003 non-null int64\n",
            "likes                    99003 non-null int64\n",
            "likes_received           99003 non-null int64\n",
            "mobile_likes             99003 non-null int64\n",
            "mobile_likes_received    99003 non-null int64\n",
            "www_likes                99003 non-null int64\n",
            "www_likes_received       99003 non-null int64\n",
            "dtypes: float64(1), int64(13), object(1)\n",
            "memory usage: 11.3+ MB\n"
          ],
          "name": "stdout"
        }
      ]
    },
    {
      "metadata": {
        "id": "MCKudnOoyYbJ",
        "colab_type": "code",
        "colab": {
          "base_uri": "https://localhost:8080/",
          "height": 224
        },
        "outputId": "83d5a995-2b3b-4eef-b2c5-d71c4bf83eb7"
      },
      "cell_type": "code",
      "source": [
        "facebook_data.tail()"
      ],
      "execution_count": 8,
      "outputs": [
        {
          "output_type": "execute_result",
          "data": {
            "text/html": [
              "<div>\n",
              "<style scoped>\n",
              "    .dataframe tbody tr th:only-of-type {\n",
              "        vertical-align: middle;\n",
              "    }\n",
              "\n",
              "    .dataframe tbody tr th {\n",
              "        vertical-align: top;\n",
              "    }\n",
              "\n",
              "    .dataframe thead th {\n",
              "        text-align: right;\n",
              "    }\n",
              "</style>\n",
              "<table border=\"1\" class=\"dataframe\">\n",
              "  <thead>\n",
              "    <tr style=\"text-align: right;\">\n",
              "      <th></th>\n",
              "      <th>userid</th>\n",
              "      <th>age</th>\n",
              "      <th>dob_day</th>\n",
              "      <th>dob_year</th>\n",
              "      <th>dob_month</th>\n",
              "      <th>gender</th>\n",
              "      <th>tenure</th>\n",
              "      <th>friend_count</th>\n",
              "      <th>friendships_initiated</th>\n",
              "      <th>likes</th>\n",
              "      <th>likes_received</th>\n",
              "      <th>mobile_likes</th>\n",
              "      <th>mobile_likes_received</th>\n",
              "      <th>www_likes</th>\n",
              "      <th>www_likes_received</th>\n",
              "    </tr>\n",
              "  </thead>\n",
              "  <tbody>\n",
              "    <tr>\n",
              "      <th>98998</th>\n",
              "      <td>1268299</td>\n",
              "      <td>68</td>\n",
              "      <td>4</td>\n",
              "      <td>1945</td>\n",
              "      <td>4</td>\n",
              "      <td>female</td>\n",
              "      <td>541.0</td>\n",
              "      <td>2118</td>\n",
              "      <td>341</td>\n",
              "      <td>3996</td>\n",
              "      <td>18089</td>\n",
              "      <td>3505</td>\n",
              "      <td>11887</td>\n",
              "      <td>491</td>\n",
              "      <td>6202</td>\n",
              "    </tr>\n",
              "    <tr>\n",
              "      <th>98999</th>\n",
              "      <td>1256153</td>\n",
              "      <td>18</td>\n",
              "      <td>12</td>\n",
              "      <td>1995</td>\n",
              "      <td>3</td>\n",
              "      <td>female</td>\n",
              "      <td>21.0</td>\n",
              "      <td>1968</td>\n",
              "      <td>1720</td>\n",
              "      <td>4401</td>\n",
              "      <td>13412</td>\n",
              "      <td>4399</td>\n",
              "      <td>10592</td>\n",
              "      <td>2</td>\n",
              "      <td>2820</td>\n",
              "    </tr>\n",
              "    <tr>\n",
              "      <th>99000</th>\n",
              "      <td>1195943</td>\n",
              "      <td>15</td>\n",
              "      <td>10</td>\n",
              "      <td>1998</td>\n",
              "      <td>5</td>\n",
              "      <td>female</td>\n",
              "      <td>111.0</td>\n",
              "      <td>2002</td>\n",
              "      <td>1524</td>\n",
              "      <td>11959</td>\n",
              "      <td>12554</td>\n",
              "      <td>11959</td>\n",
              "      <td>11462</td>\n",
              "      <td>0</td>\n",
              "      <td>1092</td>\n",
              "    </tr>\n",
              "    <tr>\n",
              "      <th>99001</th>\n",
              "      <td>1468023</td>\n",
              "      <td>23</td>\n",
              "      <td>11</td>\n",
              "      <td>1990</td>\n",
              "      <td>4</td>\n",
              "      <td>female</td>\n",
              "      <td>416.0</td>\n",
              "      <td>2560</td>\n",
              "      <td>185</td>\n",
              "      <td>4506</td>\n",
              "      <td>6516</td>\n",
              "      <td>4506</td>\n",
              "      <td>5760</td>\n",
              "      <td>0</td>\n",
              "      <td>756</td>\n",
              "    </tr>\n",
              "    <tr>\n",
              "      <th>99002</th>\n",
              "      <td>1397896</td>\n",
              "      <td>39</td>\n",
              "      <td>15</td>\n",
              "      <td>1974</td>\n",
              "      <td>5</td>\n",
              "      <td>female</td>\n",
              "      <td>397.0</td>\n",
              "      <td>2049</td>\n",
              "      <td>768</td>\n",
              "      <td>9410</td>\n",
              "      <td>12443</td>\n",
              "      <td>9410</td>\n",
              "      <td>9530</td>\n",
              "      <td>0</td>\n",
              "      <td>2913</td>\n",
              "    </tr>\n",
              "  </tbody>\n",
              "</table>\n",
              "</div>"
            ],
            "text/plain": [
              "        userid  age  dob_day  dob_year  dob_month  gender  tenure  \\\n",
              "98998  1268299   68        4      1945          4  female   541.0   \n",
              "98999  1256153   18       12      1995          3  female    21.0   \n",
              "99000  1195943   15       10      1998          5  female   111.0   \n",
              "99001  1468023   23       11      1990          4  female   416.0   \n",
              "99002  1397896   39       15      1974          5  female   397.0   \n",
              "\n",
              "       friend_count  friendships_initiated  likes  likes_received  \\\n",
              "98998          2118                    341   3996           18089   \n",
              "98999          1968                   1720   4401           13412   \n",
              "99000          2002                   1524  11959           12554   \n",
              "99001          2560                    185   4506            6516   \n",
              "99002          2049                    768   9410           12443   \n",
              "\n",
              "       mobile_likes  mobile_likes_received  www_likes  www_likes_received  \n",
              "98998          3505                  11887        491                6202  \n",
              "98999          4399                  10592          2                2820  \n",
              "99000         11959                  11462          0                1092  \n",
              "99001          4506                   5760          0                 756  \n",
              "99002          9410                   9530          0                2913  "
            ]
          },
          "metadata": {
            "tags": []
          },
          "execution_count": 8
        }
      ]
    },
    {
      "metadata": {
        "id": "5XGG0Pc7MWQ6",
        "colab_type": "code",
        "colab": {
          "base_uri": "https://localhost:8080/",
          "height": 439
        },
        "outputId": "60e7c131-3c13-4da1-fad6-c354b8ca722f"
      },
      "cell_type": "code",
      "source": [
        "# Create pie chart to know which gender (male/female) is more on facebook\n",
        "\n",
        "fig = plt.figure(figsize=(15,7.5))\n",
        "labels = ['male', 'female']\n",
        "sizes = facebook_data.gender.value_counts()\n",
        "colors = ['lightskyblue', 'pink']\n",
        "explode = (0.05, 0.05)\n",
        "\n",
        "plt.pie(sizes, labels=labels, explode=explode, colors=colors, autopct='%1.1f%%', shadow=True, startangle=90)\n",
        "plt.show()"
      ],
      "execution_count": 9,
      "outputs": [
        {
          "output_type": "display_data",
          "data": {
            "image/png": "[encoded data removed]",
            "text/plain": [
              "<matplotlib.figure.Figure at 0x7fd273c30a90>"
            ]
          },
          "metadata": {
            "tags": []
          }
        }
      ]
    },
    {
      "metadata": {
        "id": "0rzVs9Keyy2m",
        "colab_type": "text"
      },
      "cell_type": "markdown",
      "source": [
        "### **Data Cleaning**"
      ]
    },
    {
      "metadata": {
        "id": "O45AZMJEUDzk",
        "colab_type": "code",
        "colab": {}
      },
      "cell_type": "code",
      "source": [
        "# Gender is missing in 175 places of dataset that is .17% and these missing gender are replaced by mode of gender\n",
        "\n",
        "facebook_data['gender'].fillna(facebook_data['gender'].mode()[0],inplace=True)"
      ],
      "execution_count": 0,
      "outputs": []
    },
    {
      "metadata": {
        "id": "ly_O5183c-Kz",
        "colab_type": "code",
        "colab": {}
      },
      "cell_type": "code",
      "source": [
        "# Tenure is missing in only 2 places of dataset, i.e .002% and these missing tenure are replaced by mean of tenure\n",
        "\n",
        "facebook_data['tenure'].fillna(facebook_data['tenure'].mean(),inplace=True)"
      ],
      "execution_count": 0,
      "outputs": []
    },
    {
      "metadata": {
        "id": "tKYj-EgidPmR",
        "colab_type": "code",
        "colab": {
          "base_uri": "https://localhost:8080/",
          "height": 357
        },
        "outputId": "dd8458f1-5859-46c3-a6ba-3e826de686be"
      },
      "cell_type": "code",
      "source": [
        "# Get info of facebook data after replacing the values\n",
        "\n",
        "facebook_data.info()"
      ],
      "execution_count": 12,
      "outputs": [
        {
          "output_type": "stream",
          "text": [
            "<class 'pandas.core.frame.DataFrame'>\n",
            "RangeIndex: 99003 entries, 0 to 99002\n",
            "Data columns (total 15 columns):\n",
            "userid                   99003 non-null int64\n",
            "age                      99003 non-null int64\n",
            "dob_day                  99003 non-null int64\n",
            "dob_year                 99003 non-null int64\n",
            "dob_month                99003 non-null int64\n",
            "gender                   99003 non-null object\n",
            "tenure                   99003 non-null float64\n",
            "friend_count             99003 non-null int64\n",
            "friendships_initiated    99003 non-null int64\n",
            "likes                    99003 non-null int64\n",
            "likes_received           99003 non-null int64\n",
            "mobile_likes             99003 non-null int64\n",
            "mobile_likes_received    99003 non-null int64\n",
            "www_likes                99003 non-null int64\n",
            "www_likes_received       99003 non-null int64\n",
            "dtypes: float64(1), int64(13), object(1)\n",
            "memory usage: 11.3+ MB\n"
          ],
          "name": "stdout"
        }
      ]
    },
    {
      "metadata": {
        "id": "x6RhHNRoCIDJ",
        "colab_type": "code",
        "colab": {
          "base_uri": "https://localhost:8080/",
          "height": 317
        },
        "outputId": "1fd36e3c-f885-464f-b92c-117b211da36c"
      },
      "cell_type": "code",
      "source": [
        "facebook_data.describe()"
      ],
      "execution_count": 13,
      "outputs": [
        {
          "output_type": "execute_result",
          "data": {
            "text/html": [
              "<div>\n",
              "<style scoped>\n",
              "    .dataframe tbody tr th:only-of-type {\n",
              "        vertical-align: middle;\n",
              "    }\n",
              "\n",
              "    .dataframe tbody tr th {\n",
              "        vertical-align: top;\n",
              "    }\n",
              "\n",
              "    .dataframe thead th {\n",
              "        text-align: right;\n",
              "    }\n",
              "</style>\n",
              "<table border=\"1\" class=\"dataframe\">\n",
              "  <thead>\n",
              "    <tr style=\"text-align: right;\">\n",
              "      <th></th>\n",
              "      <th>userid</th>\n",
              "      <th>age</th>\n",
              "      <th>dob_day</th>\n",
              "      <th>dob_year</th>\n",
              "      <th>dob_month</th>\n",
              "      <th>tenure</th>\n",
              "      <th>friend_count</th>\n",
              "      <th>friendships_initiated</th>\n",
              "      <th>likes</th>\n",
              "      <th>likes_received</th>\n",
              "      <th>mobile_likes</th>\n",
              "      <th>mobile_likes_received</th>\n",
              "      <th>www_likes</th>\n",
              "      <th>www_likes_received</th>\n",
              "    </tr>\n",
              "  </thead>\n",
              "  <tbody>\n",
              "    <tr>\n",
              "      <th>count</th>\n",
              "      <td>9.900300e+04</td>\n",
              "      <td>99003.000000</td>\n",
              "      <td>99003.000000</td>\n",
              "      <td>99003.000000</td>\n",
              "      <td>99003.000000</td>\n",
              "      <td>99003.000000</td>\n",
              "      <td>99003.000000</td>\n",
              "      <td>99003.000000</td>\n",
              "      <td>99003.000000</td>\n",
              "      <td>99003.000000</td>\n",
              "      <td>99003.000000</td>\n",
              "      <td>99003.000000</td>\n",
              "      <td>99003.000000</td>\n",
              "      <td>99003.000000</td>\n",
              "    </tr>\n",
              "    <tr>\n",
              "      <th>mean</th>\n",
              "      <td>1.597045e+06</td>\n",
              "      <td>37.280224</td>\n",
              "      <td>14.530408</td>\n",
              "      <td>1975.719776</td>\n",
              "      <td>6.283365</td>\n",
              "      <td>537.887375</td>\n",
              "      <td>196.350787</td>\n",
              "      <td>107.452471</td>\n",
              "      <td>156.078785</td>\n",
              "      <td>142.689363</td>\n",
              "      <td>106.116300</td>\n",
              "      <td>84.120491</td>\n",
              "      <td>49.962425</td>\n",
              "      <td>58.568831</td>\n",
              "    </tr>\n",
              "    <tr>\n",
              "      <th>std</th>\n",
              "      <td>3.440592e+05</td>\n",
              "      <td>22.589748</td>\n",
              "      <td>9.015606</td>\n",
              "      <td>22.589748</td>\n",
              "      <td>3.529672</td>\n",
              "      <td>457.645251</td>\n",
              "      <td>387.304229</td>\n",
              "      <td>188.786951</td>\n",
              "      <td>572.280681</td>\n",
              "      <td>1387.919613</td>\n",
              "      <td>445.252985</td>\n",
              "      <td>839.889444</td>\n",
              "      <td>285.560152</td>\n",
              "      <td>601.416348</td>\n",
              "    </tr>\n",
              "    <tr>\n",
              "      <th>min</th>\n",
              "      <td>1.000008e+06</td>\n",
              "      <td>13.000000</td>\n",
              "      <td>1.000000</td>\n",
              "      <td>1900.000000</td>\n",
              "      <td>1.000000</td>\n",
              "      <td>0.000000</td>\n",
              "      <td>0.000000</td>\n",
              "      <td>0.000000</td>\n",
              "      <td>0.000000</td>\n",
              "      <td>0.000000</td>\n",
              "      <td>0.000000</td>\n",
              "      <td>0.000000</td>\n",
              "      <td>0.000000</td>\n",
              "      <td>0.000000</td>\n",
              "    </tr>\n",
              "    <tr>\n",
              "      <th>25%</th>\n",
              "      <td>1.298806e+06</td>\n",
              "      <td>20.000000</td>\n",
              "      <td>7.000000</td>\n",
              "      <td>1963.000000</td>\n",
              "      <td>3.000000</td>\n",
              "      <td>226.000000</td>\n",
              "      <td>31.000000</td>\n",
              "      <td>17.000000</td>\n",
              "      <td>1.000000</td>\n",
              "      <td>1.000000</td>\n",
              "      <td>0.000000</td>\n",
              "      <td>0.000000</td>\n",
              "      <td>0.000000</td>\n",
              "      <td>0.000000</td>\n",
              "    </tr>\n",
              "    <tr>\n",
              "      <th>50%</th>\n",
              "      <td>1.596148e+06</td>\n",
              "      <td>28.000000</td>\n",
              "      <td>14.000000</td>\n",
              "      <td>1985.000000</td>\n",
              "      <td>6.000000</td>\n",
              "      <td>412.000000</td>\n",
              "      <td>82.000000</td>\n",
              "      <td>46.000000</td>\n",
              "      <td>11.000000</td>\n",
              "      <td>8.000000</td>\n",
              "      <td>4.000000</td>\n",
              "      <td>4.000000</td>\n",
              "      <td>0.000000</td>\n",
              "      <td>2.000000</td>\n",
              "    </tr>\n",
              "    <tr>\n",
              "      <th>75%</th>\n",
              "      <td>1.895744e+06</td>\n",
              "      <td>50.000000</td>\n",
              "      <td>22.000000</td>\n",
              "      <td>1993.000000</td>\n",
              "      <td>9.000000</td>\n",
              "      <td>675.000000</td>\n",
              "      <td>206.000000</td>\n",
              "      <td>117.000000</td>\n",
              "      <td>81.000000</td>\n",
              "      <td>59.000000</td>\n",
              "      <td>46.000000</td>\n",
              "      <td>33.000000</td>\n",
              "      <td>7.000000</td>\n",
              "      <td>20.000000</td>\n",
              "    </tr>\n",
              "    <tr>\n",
              "      <th>max</th>\n",
              "      <td>2.193542e+06</td>\n",
              "      <td>113.000000</td>\n",
              "      <td>31.000000</td>\n",
              "      <td>2000.000000</td>\n",
              "      <td>12.000000</td>\n",
              "      <td>3139.000000</td>\n",
              "      <td>4923.000000</td>\n",
              "      <td>4144.000000</td>\n",
              "      <td>25111.000000</td>\n",
              "      <td>261197.000000</td>\n",
              "      <td>25111.000000</td>\n",
              "      <td>138561.000000</td>\n",
              "      <td>14865.000000</td>\n",
              "      <td>129953.000000</td>\n",
              "    </tr>\n",
              "  </tbody>\n",
              "</table>\n",
              "</div>"
            ],
            "text/plain": [
              "             userid           age       dob_day      dob_year     dob_month  \\\n",
              "count  9.900300e+04  99003.000000  99003.000000  99003.000000  99003.000000   \n",
              "mean   1.597045e+06     37.280224     14.530408   1975.719776      6.283365   \n",
              "std    3.440592e+05     22.589748      9.015606     22.589748      3.529672   \n",
              "min    1.000008e+06     13.000000      1.000000   1900.000000      1.000000   \n",
              "25%    1.298806e+06     20.000000      7.000000   1963.000000      3.000000   \n",
              "50%    1.596148e+06     28.000000     14.000000   1985.000000      6.000000   \n",
              "75%    1.895744e+06     50.000000     22.000000   1993.000000      9.000000   \n",
              "max    2.193542e+06    113.000000     31.000000   2000.000000     12.000000   \n",
              "\n",
              "             tenure  friend_count  friendships_initiated         likes  \\\n",
              "count  99003.000000  99003.000000           99003.000000  99003.000000   \n",
              "mean     537.887375    196.350787             107.452471    156.078785   \n",
              "std      457.645251    387.304229             188.786951    572.280681   \n",
              "min        0.000000      0.000000               0.000000      0.000000   \n",
              "25%      226.000000     31.000000              17.000000      1.000000   \n",
              "50%      412.000000     82.000000              46.000000     11.000000   \n",
              "75%      675.000000    206.000000             117.000000     81.000000   \n",
              "max     3139.000000   4923.000000            4144.000000  25111.000000   \n",
              "\n",
              "       likes_received  mobile_likes  mobile_likes_received     www_likes  \\\n",
              "count    99003.000000  99003.000000           99003.000000  99003.000000   \n",
              "mean       142.689363    106.116300              84.120491     49.962425   \n",
              "std       1387.919613    445.252985             839.889444    285.560152   \n",
              "min          0.000000      0.000000               0.000000      0.000000   \n",
              "25%          1.000000      0.000000               0.000000      0.000000   \n",
              "50%          8.000000      4.000000               4.000000      0.000000   \n",
              "75%         59.000000     46.000000              33.000000      7.000000   \n",
              "max     261197.000000  25111.000000          138561.000000  14865.000000   \n",
              "\n",
              "       www_likes_received  \n",
              "count        99003.000000  \n",
              "mean            58.568831  \n",
              "std            601.416348  \n",
              "min              0.000000  \n",
              "25%              0.000000  \n",
              "50%              2.000000  \n",
              "75%             20.000000  \n",
              "max         129953.000000  "
            ]
          },
          "metadata": {
            "tags": []
          },
          "execution_count": 13
        }
      ]
    },
    {
      "metadata": {
        "id": "pj8n8Lr2fOQ_",
        "colab_type": "code",
        "colab": {}
      },
      "cell_type": "code",
      "source": [
        "# Generic function to find outliers from any column\n",
        "\n",
        "def detect_outliers(col):\n",
        "  Q1 = np.percentile(facebook_data[col],25)\n",
        "  Q3 = np.percentile(facebook_data[col],75)\n",
        "  IQR = Q3 - Q1\n",
        "  \n",
        "  # outlier step\n",
        "  outlier_step = 1.5 * IQR\n",
        "  \n",
        "  # Determine a list of indices of outliers for feature col\n",
        "  outlier_list_col = facebook_data[(facebook_data[col] < Q1 - outlier_step) | (facebook_data[col] > Q3 + outlier_step )].index\n",
        "  \n",
        "  return outlier_list_col"
      ],
      "execution_count": 0,
      "outputs": []
    },
    {
      "metadata": {
        "id": "1yGC1YfA6rYl",
        "colab_type": "code",
        "colab": {}
      },
      "cell_type": "code",
      "source": [
        "# User this cell when need to drop the column(s)\n",
        "\n",
        "# facebook_data = facebook_data.drop(['friend_count_cat', 'age_group', 'active_user',\t'gender_num',\t'friend_count_cat_num',\t'age_group_num', 'tenure_bin'], axis=1)"
      ],
      "execution_count": 0,
      "outputs": []
    },
    {
      "metadata": {
        "id": "YKF39UJNK6-j",
        "colab_type": "text"
      },
      "cell_type": "markdown",
      "source": [
        "### **Date of birth analysis **"
      ]
    },
    {
      "metadata": {
        "id": "4QV4wAYsgp1y",
        "colab_type": "code",
        "colab": {
          "base_uri": "https://localhost:8080/",
          "height": 504
        },
        "outputId": "b8cb6312-41d8-42e4-b14b-9a8af51662c1"
      },
      "cell_type": "code",
      "source": [
        "# Draw a boxplot to visualize outliers in respect of age\n",
        "\n",
        "fig = plt.figure(figsize=(15,7.5))\n",
        "sns.set_style(\"whitegrid\")\n",
        "sns.boxplot(x='age', data=facebook_data, color='c')\n",
        "plt.show()"
      ],
      "execution_count": 15,
      "outputs": [
        {
          "output_type": "stream",
          "text": [
            "/usr/local/lib/python2.7/dist-packages/seaborn/categorical.py:454: FutureWarning: remove_na is deprecated and is a private function. Do not use.\n",
            "  box_data = remove_na(group_data)\n"
          ],
          "name": "stderr"
        },
        {
          "output_type": "display_data",
          "data": {
            "image/png": "[encoded data removed]",
            "text/plain": [
              "<matplotlib.figure.Figure at 0x7fd271abb990>"
            ]
          },
          "metadata": {
            "tags": []
          }
        }
      ]
    },
    {
      "metadata": {
        "id": "KyXAIn7nGNAF",
        "colab_type": "code",
        "colab": {}
      },
      "cell_type": "code",
      "source": [
        "# Remove the complete row where the age is outlier\n",
        "\n",
        "outliers_to_drop = detect_outliers('age')\n",
        "facebook_data_remout_age = facebook_data.drop(facebook_data.index[outliers_to_drop])\n",
        "facebook_data = facebook_data_remout_age"
      ],
      "execution_count": 0,
      "outputs": []
    },
    {
      "metadata": {
        "id": "yuEjkNc5LRFQ",
        "colab_type": "code",
        "colab": {
          "base_uri": "https://localhost:8080/",
          "height": 224
        },
        "outputId": "6f5a0aae-826d-46a2-f274-5fca99a0853b"
      },
      "cell_type": "code",
      "source": [
        "# Reindexing the facebook data after removing rows\n",
        "\n",
        "facebook_data.reset_index(drop=True, inplace=True)\n",
        "facebook_data.head()\n"
      ],
      "execution_count": 44,
      "outputs": [
        {
          "output_type": "execute_result",
          "data": {
            "text/html": [
              "<div>\n",
              "<style scoped>\n",
              "    .dataframe tbody tr th:only-of-type {\n",
              "        vertical-align: middle;\n",
              "    }\n",
              "\n",
              "    .dataframe tbody tr th {\n",
              "        vertical-align: top;\n",
              "    }\n",
              "\n",
              "    .dataframe thead th {\n",
              "        text-align: right;\n",
              "    }\n",
              "</style>\n",
              "<table border=\"1\" class=\"dataframe\">\n",
              "  <thead>\n",
              "    <tr style=\"text-align: right;\">\n",
              "      <th></th>\n",
              "      <th>userid</th>\n",
              "      <th>age</th>\n",
              "      <th>dob_day</th>\n",
              "      <th>dob_year</th>\n",
              "      <th>dob_month</th>\n",
              "      <th>gender</th>\n",
              "      <th>tenure</th>\n",
              "      <th>friend_count</th>\n",
              "      <th>friendships_initiated</th>\n",
              "      <th>likes</th>\n",
              "      <th>likes_received</th>\n",
              "      <th>mobile_likes</th>\n",
              "      <th>mobile_likes_received</th>\n",
              "      <th>www_likes</th>\n",
              "      <th>www_likes_received</th>\n",
              "      <th>age_group</th>\n",
              "    </tr>\n",
              "  </thead>\n",
              "  <tbody>\n",
              "    <tr>\n",
              "      <th>0</th>\n",
              "      <td>2094382</td>\n",
              "      <td>14</td>\n",
              "      <td>19</td>\n",
              "      <td>1999</td>\n",
              "      <td>11</td>\n",
              "      <td>male</td>\n",
              "      <td>266.0</td>\n",
              "      <td>0</td>\n",
              "      <td>0</td>\n",
              "      <td>0</td>\n",
              "      <td>0</td>\n",
              "      <td>0</td>\n",
              "      <td>0</td>\n",
              "      <td>0</td>\n",
              "      <td>0</td>\n",
              "      <td>20</td>\n",
              "    </tr>\n",
              "    <tr>\n",
              "      <th>1</th>\n",
              "      <td>1192601</td>\n",
              "      <td>14</td>\n",
              "      <td>2</td>\n",
              "      <td>1999</td>\n",
              "      <td>11</td>\n",
              "      <td>female</td>\n",
              "      <td>6.0</td>\n",
              "      <td>0</td>\n",
              "      <td>0</td>\n",
              "      <td>0</td>\n",
              "      <td>0</td>\n",
              "      <td>0</td>\n",
              "      <td>0</td>\n",
              "      <td>0</td>\n",
              "      <td>0</td>\n",
              "      <td>20</td>\n",
              "    </tr>\n",
              "    <tr>\n",
              "      <th>2</th>\n",
              "      <td>2083884</td>\n",
              "      <td>14</td>\n",
              "      <td>16</td>\n",
              "      <td>1999</td>\n",
              "      <td>11</td>\n",
              "      <td>male</td>\n",
              "      <td>13.0</td>\n",
              "      <td>0</td>\n",
              "      <td>0</td>\n",
              "      <td>0</td>\n",
              "      <td>0</td>\n",
              "      <td>0</td>\n",
              "      <td>0</td>\n",
              "      <td>0</td>\n",
              "      <td>0</td>\n",
              "      <td>20</td>\n",
              "    </tr>\n",
              "    <tr>\n",
              "      <th>3</th>\n",
              "      <td>1203168</td>\n",
              "      <td>14</td>\n",
              "      <td>25</td>\n",
              "      <td>1999</td>\n",
              "      <td>12</td>\n",
              "      <td>female</td>\n",
              "      <td>93.0</td>\n",
              "      <td>0</td>\n",
              "      <td>0</td>\n",
              "      <td>0</td>\n",
              "      <td>0</td>\n",
              "      <td>0</td>\n",
              "      <td>0</td>\n",
              "      <td>0</td>\n",
              "      <td>0</td>\n",
              "      <td>20</td>\n",
              "    </tr>\n",
              "    <tr>\n",
              "      <th>4</th>\n",
              "      <td>1733186</td>\n",
              "      <td>14</td>\n",
              "      <td>4</td>\n",
              "      <td>1999</td>\n",
              "      <td>12</td>\n",
              "      <td>male</td>\n",
              "      <td>82.0</td>\n",
              "      <td>0</td>\n",
              "      <td>0</td>\n",
              "      <td>0</td>\n",
              "      <td>0</td>\n",
              "      <td>0</td>\n",
              "      <td>0</td>\n",
              "      <td>0</td>\n",
              "      <td>0</td>\n",
              "      <td>20</td>\n",
              "    </tr>\n",
              "  </tbody>\n",
              "</table>\n",
              "</div>"
            ],
            "text/plain": [
              "    userid  age  dob_day  dob_year  dob_month  gender  tenure  friend_count  \\\n",
              "0  2094382   14       19      1999         11    male   266.0             0   \n",
              "1  1192601   14        2      1999         11  female     6.0             0   \n",
              "2  2083884   14       16      1999         11    male    13.0             0   \n",
              "3  1203168   14       25      1999         12  female    93.0             0   \n",
              "4  1733186   14        4      1999         12    male    82.0             0   \n",
              "\n",
              "   friendships_initiated  likes  likes_received  mobile_likes  \\\n",
              "0                      0      0               0             0   \n",
              "1                      0      0               0             0   \n",
              "2                      0      0               0             0   \n",
              "3                      0      0               0             0   \n",
              "4                      0      0               0             0   \n",
              "\n",
              "   mobile_likes_received  www_likes  www_likes_received age_group  \n",
              "0                      0          0                   0        20  \n",
              "1                      0          0                   0        20  \n",
              "2                      0          0                   0        20  \n",
              "3                      0          0                   0        20  \n",
              "4                      0          0                   0        20  "
            ]
          },
          "metadata": {
            "tags": []
          },
          "execution_count": 44
        }
      ]
    },
    {
      "metadata": {
        "id": "wFdFnBQB-aMw",
        "colab_type": "code",
        "colab": {
          "base_uri": "https://localhost:8080/",
          "height": 357
        },
        "outputId": "23829e8f-ee8d-4285-dff4-20406316e914"
      },
      "cell_type": "code",
      "source": [
        "facebook_data.info()"
      ],
      "execution_count": 18,
      "outputs": [
        {
          "output_type": "stream",
          "text": [
            "<class 'pandas.core.frame.DataFrame'>\n",
            "Int64Index: 94689 entries, 0 to 99002\n",
            "Data columns (total 15 columns):\n",
            "userid                   94689 non-null int64\n",
            "age                      94689 non-null int64\n",
            "dob_day                  94689 non-null int64\n",
            "dob_year                 94689 non-null int64\n",
            "dob_month                94689 non-null int64\n",
            "gender                   94689 non-null object\n",
            "tenure                   94689 non-null float64\n",
            "friend_count             94689 non-null int64\n",
            "friendships_initiated    94689 non-null int64\n",
            "likes                    94689 non-null int64\n",
            "likes_received           94689 non-null int64\n",
            "mobile_likes             94689 non-null int64\n",
            "mobile_likes_received    94689 non-null int64\n",
            "www_likes                94689 non-null int64\n",
            "www_likes_received       94689 non-null int64\n",
            "dtypes: float64(1), int64(13), object(1)\n",
            "memory usage: 11.6+ MB\n"
          ],
          "name": "stdout"
        }
      ]
    },
    {
      "metadata": {
        "id": "cb8ubfzlIMNt",
        "colab_type": "code",
        "colab": {
          "base_uri": "https://localhost:8080/",
          "height": 485
        },
        "outputId": "4577ce65-ad9c-41c5-a647-ff3eb0a3dfe2"
      },
      "cell_type": "code",
      "source": [
        "# Draw a histrogram to visualize which age group users are more on facebook\n",
        "\n",
        "fig = plt.figure(figsize=(15,7.5))\n",
        "bin_edges = [0,20,40,60,80,100]\n",
        "plt.hist(facebook_data['age'], bins=bin_edges, facecolor='c', alpha=0.75, rwidth=0.90)\n",
        "plt.xlabel('Age group')\n",
        "plt.ylabel('No of facebook users')\n",
        "plt.title('Agewise distribution of facebook users')\n",
        "plt.grid(True)"
      ],
      "execution_count": 30,
      "outputs": [
        {
          "output_type": "display_data",
          "data": {
            "image/png": "[encoded data removed]",
            "text/plain": [
              "<matplotlib.figure.Figure at 0x7fd2715dcb10>"
            ]
          },
          "metadata": {
            "tags": []
          }
        }
      ]
    },
    {
      "metadata": {
        "id": "N7gfP95gHZoL",
        "colab_type": "code",
        "colab": {}
      },
      "cell_type": "code",
      "source": [
        "# Create a function to add a column 'age_group' in dataset\n",
        "\n",
        "def age_group(row):\n",
        "  if row['age'] < 20 :\n",
        "     return '20'\n",
        "  if row['age'] >=20 and row['age'] < 40 :\n",
        "     return '40'\n",
        "  if row['age'] >= 40 and row['age'] < 60 :\n",
        "     return '60'\n",
        "  if row['age'] >= 60 and row['age'] < 80:\n",
        "     return '80'\n",
        "  if row['age']  >= 80:\n",
        "     return '100'\n",
        "  \n",
        "facebook_data['age_group'] = facebook_data.apply(lambda row: age_group(row),axis=1)\n"
      ],
      "execution_count": 0,
      "outputs": []
    },
    {
      "metadata": {
        "id": "F1M9K2G4COCc",
        "colab_type": "code",
        "colab": {
          "base_uri": "https://localhost:8080/",
          "height": 224
        },
        "outputId": "56a6c828-cf80-4bd4-d554-4be4565cb40a"
      },
      "cell_type": "code",
      "source": [
        "facebook_data.reset_index(drop=True, inplace=True)\n",
        "facebook_data.tail()"
      ],
      "execution_count": 39,
      "outputs": [
        {
          "output_type": "execute_result",
          "data": {
            "text/html": [
              "<div>\n",
              "<style scoped>\n",
              "    .dataframe tbody tr th:only-of-type {\n",
              "        vertical-align: middle;\n",
              "    }\n",
              "\n",
              "    .dataframe tbody tr th {\n",
              "        vertical-align: top;\n",
              "    }\n",
              "\n",
              "    .dataframe thead th {\n",
              "        text-align: right;\n",
              "    }\n",
              "</style>\n",
              "<table border=\"1\" class=\"dataframe\">\n",
              "  <thead>\n",
              "    <tr style=\"text-align: right;\">\n",
              "      <th></th>\n",
              "      <th>userid</th>\n",
              "      <th>age</th>\n",
              "      <th>dob_day</th>\n",
              "      <th>dob_year</th>\n",
              "      <th>dob_month</th>\n",
              "      <th>gender</th>\n",
              "      <th>tenure</th>\n",
              "      <th>friend_count</th>\n",
              "      <th>friendships_initiated</th>\n",
              "      <th>likes</th>\n",
              "      <th>likes_received</th>\n",
              "      <th>mobile_likes</th>\n",
              "      <th>mobile_likes_received</th>\n",
              "      <th>www_likes</th>\n",
              "      <th>www_likes_received</th>\n",
              "      <th>age_group</th>\n",
              "    </tr>\n",
              "  </thead>\n",
              "  <tbody>\n",
              "    <tr>\n",
              "      <th>98998</th>\n",
              "      <td>1268299</td>\n",
              "      <td>68</td>\n",
              "      <td>4</td>\n",
              "      <td>1945</td>\n",
              "      <td>4</td>\n",
              "      <td>female</td>\n",
              "      <td>541.0</td>\n",
              "      <td>2118</td>\n",
              "      <td>341</td>\n",
              "      <td>3996</td>\n",
              "      <td>18089</td>\n",
              "      <td>3505</td>\n",
              "      <td>11887</td>\n",
              "      <td>491</td>\n",
              "      <td>6202</td>\n",
              "      <td>80</td>\n",
              "    </tr>\n",
              "    <tr>\n",
              "      <th>98999</th>\n",
              "      <td>1256153</td>\n",
              "      <td>18</td>\n",
              "      <td>12</td>\n",
              "      <td>1995</td>\n",
              "      <td>3</td>\n",
              "      <td>female</td>\n",
              "      <td>21.0</td>\n",
              "      <td>1968</td>\n",
              "      <td>1720</td>\n",
              "      <td>4401</td>\n",
              "      <td>13412</td>\n",
              "      <td>4399</td>\n",
              "      <td>10592</td>\n",
              "      <td>2</td>\n",
              "      <td>2820</td>\n",
              "      <td>20</td>\n",
              "    </tr>\n",
              "    <tr>\n",
              "      <th>99000</th>\n",
              "      <td>1195943</td>\n",
              "      <td>15</td>\n",
              "      <td>10</td>\n",
              "      <td>1998</td>\n",
              "      <td>5</td>\n",
              "      <td>female</td>\n",
              "      <td>111.0</td>\n",
              "      <td>2002</td>\n",
              "      <td>1524</td>\n",
              "      <td>11959</td>\n",
              "      <td>12554</td>\n",
              "      <td>11959</td>\n",
              "      <td>11462</td>\n",
              "      <td>0</td>\n",
              "      <td>1092</td>\n",
              "      <td>20</td>\n",
              "    </tr>\n",
              "    <tr>\n",
              "      <th>99001</th>\n",
              "      <td>1468023</td>\n",
              "      <td>23</td>\n",
              "      <td>11</td>\n",
              "      <td>1990</td>\n",
              "      <td>4</td>\n",
              "      <td>female</td>\n",
              "      <td>416.0</td>\n",
              "      <td>2560</td>\n",
              "      <td>185</td>\n",
              "      <td>4506</td>\n",
              "      <td>6516</td>\n",
              "      <td>4506</td>\n",
              "      <td>5760</td>\n",
              "      <td>0</td>\n",
              "      <td>756</td>\n",
              "      <td>40</td>\n",
              "    </tr>\n",
              "    <tr>\n",
              "      <th>99002</th>\n",
              "      <td>1397896</td>\n",
              "      <td>39</td>\n",
              "      <td>15</td>\n",
              "      <td>1974</td>\n",
              "      <td>5</td>\n",
              "      <td>female</td>\n",
              "      <td>397.0</td>\n",
              "      <td>2049</td>\n",
              "      <td>768</td>\n",
              "      <td>9410</td>\n",
              "      <td>12443</td>\n",
              "      <td>9410</td>\n",
              "      <td>9530</td>\n",
              "      <td>0</td>\n",
              "      <td>2913</td>\n",
              "      <td>40</td>\n",
              "    </tr>\n",
              "  </tbody>\n",
              "</table>\n",
              "</div>"
            ],
            "text/plain": [
              "        userid  age  dob_day  dob_year  dob_month  gender  tenure  \\\n",
              "98998  1268299   68        4      1945          4  female   541.0   \n",
              "98999  1256153   18       12      1995          3  female    21.0   \n",
              "99000  1195943   15       10      1998          5  female   111.0   \n",
              "99001  1468023   23       11      1990          4  female   416.0   \n",
              "99002  1397896   39       15      1974          5  female   397.0   \n",
              "\n",
              "       friend_count  friendships_initiated  likes  likes_received  \\\n",
              "98998          2118                    341   3996           18089   \n",
              "98999          1968                   1720   4401           13412   \n",
              "99000          2002                   1524  11959           12554   \n",
              "99001          2560                    185   4506            6516   \n",
              "99002          2049                    768   9410           12443   \n",
              "\n",
              "       mobile_likes  mobile_likes_received  www_likes  www_likes_received  \\\n",
              "98998          3505                  11887        491                6202   \n",
              "98999          4399                  10592          2                2820   \n",
              "99000         11959                  11462          0                1092   \n",
              "99001          4506                   5760          0                 756   \n",
              "99002          9410                   9530          0                2913   \n",
              "\n",
              "      age_group  \n",
              "98998        80  \n",
              "98999        20  \n",
              "99000        20  \n",
              "99001        40  \n",
              "99002        40  "
            ]
          },
          "metadata": {
            "tags": []
          },
          "execution_count": 39
        }
      ]
    },
    {
      "metadata": {
        "id": "XouRpTse0km_",
        "colab_type": "code",
        "colab": {
          "base_uri": "https://localhost:8080/",
          "height": 746
        },
        "outputId": "3dd23c37-0946-4391-d0c9-b55375669a95"
      },
      "cell_type": "code",
      "source": [
        "# Draw a factor plot to visualize the no of users genderwise in user_group\n",
        "\n",
        "fig = plt.figure(figsize=(20,10))\n",
        "sns.factorplot(x='age_group', hue='gender', data=facebook_data, kind='count', size=10)\n",
        "locs, title = plt.xticks()\n",
        "plt.xticks(locs,('80-100','0-20','20-40','40-60','60-80'))\n",
        "plt.ylabel('No of users')\n",
        "plt.show()"
      ],
      "execution_count": 27,
      "outputs": [
        {
          "output_type": "display_data",
          "data": {
            "text/plain": [
              "<matplotlib.figure.Figure at 0x7fd2716bb0d0>"
            ]
          },
          "metadata": {
            "tags": []
          }
        },
        {
          "output_type": "display_data",
          "data": {
            "image/png": "[encoded data removed]",
            "text/plain": [
              "<matplotlib.figure.Figure at 0x7fd27170b110>"
            ]
          },
          "metadata": {
            "tags": []
          }
        }
      ]
    },
    {
      "metadata": {
        "id": "azVhh9xALL2v",
        "colab_type": "text"
      },
      "cell_type": "markdown",
      "source": [
        "### **Friend count analysis**"
      ]
    },
    {
      "metadata": {
        "id": "Wxn8jIxR7yzB",
        "colab_type": "code",
        "colab": {
          "base_uri": "https://localhost:8080/",
          "height": 170
        },
        "outputId": "04718249-096a-46de-a311-6ce3e6eb2f2d"
      },
      "cell_type": "code",
      "source": [
        "facebook_data['friend_count'].describe()"
      ],
      "execution_count": 31,
      "outputs": [
        {
          "output_type": "execute_result",
          "data": {
            "text/plain": [
              "count    94689.000000\n",
              "mean       187.205811\n",
              "std        373.920512\n",
              "min          0.000000\n",
              "25%         30.000000\n",
              "50%         78.000000\n",
              "75%        196.000000\n",
              "max       4917.000000\n",
              "Name: friend_count, dtype: float64"
            ]
          },
          "metadata": {
            "tags": []
          },
          "execution_count": 31
        }
      ]
    },
    {
      "metadata": {
        "id": "T9zptWf_qP4c",
        "colab_type": "code",
        "colab": {
          "base_uri": "https://localhost:8080/",
          "height": 311
        },
        "outputId": "78302b17-6ecc-4a43-e780-ec6a82fbd5d5"
      },
      "cell_type": "code",
      "source": [
        "# Draw distribution plot to vizualize the data skewness\n",
        "\n",
        "sns.distplot(facebook_data['friend_count'], bins=100, kde=False)\n",
        "plt.ylabel('Count')\n",
        "plt.title('Friend count wise distribution of the facebook users')"
      ],
      "execution_count": 32,
      "outputs": [
        {
          "output_type": "execute_result",
          "data": {
            "text/plain": [
              "Text(0.5,1,u'Friend count wise distribution of the facebook users')"
            ]
          },
          "metadata": {
            "tags": []
          },
          "execution_count": 32
        },
        {
          "output_type": "display_data",
          "data": {
            "image/png": "[encoded data removed]",
            "text/plain": [
              "<matplotlib.figure.Figure at 0x7fd27168fcd0>"
            ]
          },
          "metadata": {
            "tags": []
          }
        }
      ]
    },
    {
      "metadata": {
        "id": "A3uyuLJsrqik",
        "colab_type": "code",
        "colab": {
          "base_uri": "https://localhost:8080/",
          "height": 470
        },
        "outputId": "097e66e1-0ad1-4112-cacb-ec9e0632b7c4"
      },
      "cell_type": "code",
      "source": [
        "# Draw box plot to visualize outliers. Here in facebook the outliers are who have fake account to do likes.\n",
        "\n",
        "fig = plt.figure(figsize=(15,7.5))\n",
        "sns.set_style(\"whitegrid\")\n",
        "sns.boxplot(x='friend_count', data=facebook_data, color='c')\n",
        "plt.show()"
      ],
      "execution_count": 33,
      "outputs": [
        {
          "output_type": "display_data",
          "data": {
            "image/png": "[encoded data removed]",
            "text/plain": [
              "<matplotlib.figure.Figure at 0x7fd2718feb10>"
            ]
          },
          "metadata": {
            "tags": []
          }
        }
      ]
    },
    {
      "metadata": {
        "id": "YGLBTPBr86op",
        "colab_type": "code",
        "colab": {}
      },
      "cell_type": "code",
      "source": [
        "# Remove the complete rows where the friend_count is outlier\n",
        "\n",
        "outliers_to_drop = detect_outliers('friend_count')\n",
        "#print (outliers_to_drop)\n",
        "#print (facebook_data.index(outliers_to_drop))\n",
        "facebook_data_remout_friend_count = facebook_data.drop(facebook_data.index[outliers_to_drop])\n",
        "facebook_data = facebook_data_remout_friend_count\n"
      ],
      "execution_count": 0,
      "outputs": []
    },
    {
      "metadata": {
        "id": "9Xs4d8hI-9lI",
        "colab_type": "code",
        "colab": {
          "base_uri": "https://localhost:8080/",
          "height": 224
        },
        "outputId": "60ba024e-e761-46ad-e570-3e7e36a31dd5"
      },
      "cell_type": "code",
      "source": [
        "# Reindexing the facebook data after removing rows\n",
        "\n",
        "facebook_data.reset_index(drop=True, inplace=True)\n",
        "facebook_data.tail()"
      ],
      "execution_count": 46,
      "outputs": [
        {
          "output_type": "execute_result",
          "data": {
            "text/html": [
              "<div>\n",
              "<style scoped>\n",
              "    .dataframe tbody tr th:only-of-type {\n",
              "        vertical-align: middle;\n",
              "    }\n",
              "\n",
              "    .dataframe tbody tr th {\n",
              "        vertical-align: top;\n",
              "    }\n",
              "\n",
              "    .dataframe thead th {\n",
              "        text-align: right;\n",
              "    }\n",
              "</style>\n",
              "<table border=\"1\" class=\"dataframe\">\n",
              "  <thead>\n",
              "    <tr style=\"text-align: right;\">\n",
              "      <th></th>\n",
              "      <th>userid</th>\n",
              "      <th>age</th>\n",
              "      <th>dob_day</th>\n",
              "      <th>dob_year</th>\n",
              "      <th>dob_month</th>\n",
              "      <th>gender</th>\n",
              "      <th>tenure</th>\n",
              "      <th>friend_count</th>\n",
              "      <th>friendships_initiated</th>\n",
              "      <th>likes</th>\n",
              "      <th>likes_received</th>\n",
              "      <th>mobile_likes</th>\n",
              "      <th>mobile_likes_received</th>\n",
              "      <th>www_likes</th>\n",
              "      <th>www_likes_received</th>\n",
              "      <th>age_group</th>\n",
              "    </tr>\n",
              "  </thead>\n",
              "  <tbody>\n",
              "    <tr>\n",
              "      <th>0</th>\n",
              "      <td>2094382</td>\n",
              "      <td>14</td>\n",
              "      <td>19</td>\n",
              "      <td>1999</td>\n",
              "      <td>11</td>\n",
              "      <td>male</td>\n",
              "      <td>266.0</td>\n",
              "      <td>0</td>\n",
              "      <td>0</td>\n",
              "      <td>0</td>\n",
              "      <td>0</td>\n",
              "      <td>0</td>\n",
              "      <td>0</td>\n",
              "      <td>0</td>\n",
              "      <td>0</td>\n",
              "      <td>20</td>\n",
              "    </tr>\n",
              "    <tr>\n",
              "      <th>1</th>\n",
              "      <td>1192601</td>\n",
              "      <td>14</td>\n",
              "      <td>2</td>\n",
              "      <td>1999</td>\n",
              "      <td>11</td>\n",
              "      <td>female</td>\n",
              "      <td>6.0</td>\n",
              "      <td>0</td>\n",
              "      <td>0</td>\n",
              "      <td>0</td>\n",
              "      <td>0</td>\n",
              "      <td>0</td>\n",
              "      <td>0</td>\n",
              "      <td>0</td>\n",
              "      <td>0</td>\n",
              "      <td>20</td>\n",
              "    </tr>\n",
              "    <tr>\n",
              "      <th>2</th>\n",
              "      <td>2083884</td>\n",
              "      <td>14</td>\n",
              "      <td>16</td>\n",
              "      <td>1999</td>\n",
              "      <td>11</td>\n",
              "      <td>male</td>\n",
              "      <td>13.0</td>\n",
              "      <td>0</td>\n",
              "      <td>0</td>\n",
              "      <td>0</td>\n",
              "      <td>0</td>\n",
              "      <td>0</td>\n",
              "      <td>0</td>\n",
              "      <td>0</td>\n",
              "      <td>0</td>\n",
              "      <td>20</td>\n",
              "    </tr>\n",
              "    <tr>\n",
              "      <th>3</th>\n",
              "      <td>1203168</td>\n",
              "      <td>14</td>\n",
              "      <td>25</td>\n",
              "      <td>1999</td>\n",
              "      <td>12</td>\n",
              "      <td>female</td>\n",
              "      <td>93.0</td>\n",
              "      <td>0</td>\n",
              "      <td>0</td>\n",
              "      <td>0</td>\n",
              "      <td>0</td>\n",
              "      <td>0</td>\n",
              "      <td>0</td>\n",
              "      <td>0</td>\n",
              "      <td>0</td>\n",
              "      <td>20</td>\n",
              "    </tr>\n",
              "    <tr>\n",
              "      <th>4</th>\n",
              "      <td>1733186</td>\n",
              "      <td>14</td>\n",
              "      <td>4</td>\n",
              "      <td>1999</td>\n",
              "      <td>12</td>\n",
              "      <td>male</td>\n",
              "      <td>82.0</td>\n",
              "      <td>0</td>\n",
              "      <td>0</td>\n",
              "      <td>0</td>\n",
              "      <td>0</td>\n",
              "      <td>0</td>\n",
              "      <td>0</td>\n",
              "      <td>0</td>\n",
              "      <td>0</td>\n",
              "      <td>20</td>\n",
              "    </tr>\n",
              "  </tbody>\n",
              "</table>\n",
              "</div>"
            ],
            "text/plain": [
              "    userid  age  dob_day  dob_year  dob_month  gender  tenure  friend_count  \\\n",
              "0  2094382   14       19      1999         11    male   266.0             0   \n",
              "1  1192601   14        2      1999         11  female     6.0             0   \n",
              "2  2083884   14       16      1999         11    male    13.0             0   \n",
              "3  1203168   14       25      1999         12  female    93.0             0   \n",
              "4  1733186   14        4      1999         12    male    82.0             0   \n",
              "\n",
              "   friendships_initiated  likes  likes_received  mobile_likes  \\\n",
              "0                      0      0               0             0   \n",
              "1                      0      0               0             0   \n",
              "2                      0      0               0             0   \n",
              "3                      0      0               0             0   \n",
              "4                      0      0               0             0   \n",
              "\n",
              "   mobile_likes_received  www_likes  www_likes_received age_group  \n",
              "0                      0          0                   0        20  \n",
              "1                      0          0                   0        20  \n",
              "2                      0          0                   0        20  \n",
              "3                      0          0                   0        20  \n",
              "4                      0          0                   0        20  "
            ]
          },
          "metadata": {
            "tags": []
          },
          "execution_count": 46
        }
      ]
    },
    {
      "metadata": {
        "id": "NfPdmg1AKTGF",
        "colab_type": "code",
        "colab": {}
      },
      "cell_type": "code",
      "source": [
        "# Remove the complete rows where the friend_count is 0\n",
        "\n",
        "facebook_data_rem_friend_count_0 = facebook_data.drop(facebook_data.index[facebook_data['friend_count'] == 0])\n",
        "facebook_data = facebook_data_rem_friend_count_0"
      ],
      "execution_count": 0,
      "outputs": []
    },
    {
      "metadata": {
        "id": "mUz_4jctLQtx",
        "colab_type": "code",
        "colab": {
          "base_uri": "https://localhost:8080/",
          "height": 224
        },
        "outputId": "4a2b25b9-75d9-4087-b3d5-70223510e906"
      },
      "cell_type": "code",
      "source": [
        "# Reindexing the facebook data after removing rows\n",
        "\n",
        "facebook_data.reset_index(drop=True, inplace=True)\n",
        "facebook_data.tail()"
      ],
      "execution_count": 50,
      "outputs": [
        {
          "output_type": "execute_result",
          "data": {
            "text/html": [
              "<div>\n",
              "<style scoped>\n",
              "    .dataframe tbody tr th:only-of-type {\n",
              "        vertical-align: middle;\n",
              "    }\n",
              "\n",
              "    .dataframe tbody tr th {\n",
              "        vertical-align: top;\n",
              "    }\n",
              "\n",
              "    .dataframe thead th {\n",
              "        text-align: right;\n",
              "    }\n",
              "</style>\n",
              "<table border=\"1\" class=\"dataframe\">\n",
              "  <thead>\n",
              "    <tr style=\"text-align: right;\">\n",
              "      <th></th>\n",
              "      <th>userid</th>\n",
              "      <th>age</th>\n",
              "      <th>dob_day</th>\n",
              "      <th>dob_year</th>\n",
              "      <th>dob_month</th>\n",
              "      <th>gender</th>\n",
              "      <th>tenure</th>\n",
              "      <th>friend_count</th>\n",
              "      <th>friendships_initiated</th>\n",
              "      <th>likes</th>\n",
              "      <th>likes_received</th>\n",
              "      <th>mobile_likes</th>\n",
              "      <th>mobile_likes_received</th>\n",
              "      <th>www_likes</th>\n",
              "      <th>www_likes_received</th>\n",
              "      <th>age_group</th>\n",
              "    </tr>\n",
              "  </thead>\n",
              "  <tbody>\n",
              "    <tr>\n",
              "      <th>84093</th>\n",
              "      <td>1965957</td>\n",
              "      <td>30</td>\n",
              "      <td>14</td>\n",
              "      <td>1983</td>\n",
              "      <td>10</td>\n",
              "      <td>male</td>\n",
              "      <td>547.0</td>\n",
              "      <td>442</td>\n",
              "      <td>273</td>\n",
              "      <td>1665</td>\n",
              "      <td>3292</td>\n",
              "      <td>1356</td>\n",
              "      <td>2828</td>\n",
              "      <td>309</td>\n",
              "      <td>464</td>\n",
              "      <td>40</td>\n",
              "    </tr>\n",
              "    <tr>\n",
              "      <th>84094</th>\n",
              "      <td>1599774</td>\n",
              "      <td>22</td>\n",
              "      <td>21</td>\n",
              "      <td>1991</td>\n",
              "      <td>5</td>\n",
              "      <td>male</td>\n",
              "      <td>538.0</td>\n",
              "      <td>444</td>\n",
              "      <td>252</td>\n",
              "      <td>2307</td>\n",
              "      <td>692</td>\n",
              "      <td>54</td>\n",
              "      <td>340</td>\n",
              "      <td>2253</td>\n",
              "      <td>352</td>\n",
              "      <td>40</td>\n",
              "    </tr>\n",
              "    <tr>\n",
              "      <th>84095</th>\n",
              "      <td>1640493</td>\n",
              "      <td>14</td>\n",
              "      <td>27</td>\n",
              "      <td>1999</td>\n",
              "      <td>2</td>\n",
              "      <td>female</td>\n",
              "      <td>85.0</td>\n",
              "      <td>445</td>\n",
              "      <td>313</td>\n",
              "      <td>2517</td>\n",
              "      <td>2607</td>\n",
              "      <td>2468</td>\n",
              "      <td>1909</td>\n",
              "      <td>49</td>\n",
              "      <td>698</td>\n",
              "      <td>20</td>\n",
              "    </tr>\n",
              "    <tr>\n",
              "      <th>84096</th>\n",
              "      <td>2054882</td>\n",
              "      <td>25</td>\n",
              "      <td>21</td>\n",
              "      <td>1988</td>\n",
              "      <td>1</td>\n",
              "      <td>female</td>\n",
              "      <td>329.0</td>\n",
              "      <td>444</td>\n",
              "      <td>147</td>\n",
              "      <td>2616</td>\n",
              "      <td>1889</td>\n",
              "      <td>2554</td>\n",
              "      <td>982</td>\n",
              "      <td>62</td>\n",
              "      <td>907</td>\n",
              "      <td>40</td>\n",
              "    </tr>\n",
              "    <tr>\n",
              "      <th>84097</th>\n",
              "      <td>1220910</td>\n",
              "      <td>22</td>\n",
              "      <td>25</td>\n",
              "      <td>1991</td>\n",
              "      <td>12</td>\n",
              "      <td>male</td>\n",
              "      <td>584.0</td>\n",
              "      <td>444</td>\n",
              "      <td>341</td>\n",
              "      <td>3926</td>\n",
              "      <td>2004</td>\n",
              "      <td>3926</td>\n",
              "      <td>1153</td>\n",
              "      <td>0</td>\n",
              "      <td>851</td>\n",
              "      <td>40</td>\n",
              "    </tr>\n",
              "  </tbody>\n",
              "</table>\n",
              "</div>"
            ],
            "text/plain": [
              "        userid  age  dob_day  dob_year  dob_month  gender  tenure  \\\n",
              "84093  1965957   30       14      1983         10    male   547.0   \n",
              "84094  1599774   22       21      1991          5    male   538.0   \n",
              "84095  1640493   14       27      1999          2  female    85.0   \n",
              "84096  2054882   25       21      1988          1  female   329.0   \n",
              "84097  1220910   22       25      1991         12    male   584.0   \n",
              "\n",
              "       friend_count  friendships_initiated  likes  likes_received  \\\n",
              "84093           442                    273   1665            3292   \n",
              "84094           444                    252   2307             692   \n",
              "84095           445                    313   2517            2607   \n",
              "84096           444                    147   2616            1889   \n",
              "84097           444                    341   3926            2004   \n",
              "\n",
              "       mobile_likes  mobile_likes_received  www_likes  www_likes_received  \\\n",
              "84093          1356                   2828        309                 464   \n",
              "84094            54                    340       2253                 352   \n",
              "84095          2468                   1909         49                 698   \n",
              "84096          2554                    982         62                 907   \n",
              "84097          3926                   1153          0                 851   \n",
              "\n",
              "      age_group  \n",
              "84093        40  \n",
              "84094        40  \n",
              "84095        20  \n",
              "84096        40  \n",
              "84097        40  "
            ]
          },
          "metadata": {
            "tags": []
          },
          "execution_count": 50
        }
      ]
    },
    {
      "metadata": {
        "id": "pCDK4gKPAFQh",
        "colab_type": "code",
        "colab": {
          "base_uri": "https://localhost:8080/",
          "height": 374
        },
        "outputId": "9ab7b254-4aa9-4225-96fc-f7745e3d62bd"
      },
      "cell_type": "code",
      "source": [
        "facebook_data.info()"
      ],
      "execution_count": 51,
      "outputs": [
        {
          "output_type": "stream",
          "text": [
            "<class 'pandas.core.frame.DataFrame'>\n",
            "RangeIndex: 84098 entries, 0 to 84097\n",
            "Data columns (total 16 columns):\n",
            "userid                   84098 non-null int64\n",
            "age                      84098 non-null int64\n",
            "dob_day                  84098 non-null int64\n",
            "dob_year                 84098 non-null int64\n",
            "dob_month                84098 non-null int64\n",
            "gender                   84098 non-null object\n",
            "tenure                   84098 non-null float64\n",
            "friend_count             84098 non-null int64\n",
            "friendships_initiated    84098 non-null int64\n",
            "likes                    84098 non-null int64\n",
            "likes_received           84098 non-null int64\n",
            "mobile_likes             84098 non-null int64\n",
            "mobile_likes_received    84098 non-null int64\n",
            "www_likes                84098 non-null int64\n",
            "www_likes_received       84098 non-null int64\n",
            "age_group                84098 non-null object\n",
            "dtypes: float64(1), int64(13), object(2)\n",
            "memory usage: 10.3+ MB\n"
          ],
          "name": "stdout"
        }
      ]
    },
    {
      "metadata": {
        "id": "5CgwGIWoLbg_",
        "colab_type": "code",
        "colab": {
          "base_uri": "https://localhost:8080/",
          "height": 170
        },
        "outputId": "d0552011-0a03-4dd7-e60c-81c770630b28"
      },
      "cell_type": "code",
      "source": [
        "facebook_data.friend_count.describe()"
      ],
      "execution_count": 53,
      "outputs": [
        {
          "output_type": "execute_result",
          "data": {
            "text/plain": [
              "count    84098.000000\n",
              "mean       105.177864\n",
              "std        101.249090\n",
              "min          1.000000\n",
              "25%         29.000000\n",
              "50%         70.000000\n",
              "75%        153.000000\n",
              "max        445.000000\n",
              "Name: friend_count, dtype: float64"
            ]
          },
          "metadata": {
            "tags": []
          },
          "execution_count": 53
        }
      ]
    },
    {
      "metadata": {
        "id": "ODTF0LyeAV7I",
        "colab_type": "code",
        "colab": {
          "base_uri": "https://localhost:8080/",
          "height": 1573
        },
        "outputId": "78483522-b9a3-4ba8-fca7-8b96850f1cd8"
      },
      "cell_type": "code",
      "source": [
        "# Draw a bar plot to visualize which age group have more friends\n",
        "fig = plt.figure(figsize=(15,7.5))\n",
        "y=facebook_data['age_group'].groupby(facebook_data['friend_count']).count()\n",
        "print (y)\n",
        "plt.bar(y.index, y.values, color='c', width=0.5)\n",
        "plt.title('Total number of friend count age_group wise')\n",
        "plt.ylabel('Number of friend')\n",
        "plt.xlabel('Age Group')\n",
        "plt.legend()"
      ],
      "execution_count": 62,
      "outputs": [
        {
          "output_type": "stream",
          "text": [
            "friend_count\n",
            "1      1806\n",
            "2      1111\n",
            "3       850\n",
            "4       739\n",
            "5       783\n",
            "6       709\n",
            "7       664\n",
            "8       706\n",
            "9       694\n",
            "10      732\n",
            "11      665\n",
            "12      649\n",
            "13      693\n",
            "14      691\n",
            "15      670\n",
            "16      691\n",
            "17      625\n",
            "18      707\n",
            "19      688\n",
            "20      677\n",
            "21      688\n",
            "22      682\n",
            "23      681\n",
            "24      722\n",
            "25      659\n",
            "26      623\n",
            "27      656\n",
            "28      650\n",
            "29      710\n",
            "30      642\n",
            "       ... \n",
            "416      28\n",
            "417      17\n",
            "418      32\n",
            "419      20\n",
            "420      28\n",
            "421      32\n",
            "422      30\n",
            "423      27\n",
            "424      28\n",
            "425      33\n",
            "426      32\n",
            "427      22\n",
            "428      31\n",
            "429      25\n",
            "430      31\n",
            "431      37\n",
            "432      35\n",
            "433      22\n",
            "434      31\n",
            "435      20\n",
            "436      34\n",
            "437      31\n",
            "438      21\n",
            "439      25\n",
            "440      15\n",
            "441      31\n",
            "442      25\n",
            "443      27\n",
            "444      15\n",
            "445      25\n",
            "Name: age_group, Length: 445, dtype: int64\n"
          ],
          "name": "stdout"
        },
        {
          "output_type": "execute_result",
          "data": {
            "text/plain": [
              "<matplotlib.legend.Legend at 0x7fd2710a8510>"
            ]
          },
          "metadata": {
            "tags": []
          },
          "execution_count": 62
        },
        {
          "output_type": "display_data",
          "data": {
            "image/png": "[encoded data removed]",
            "text/plain": [
              "<matplotlib.figure.Figure at 0x7fd27114d950>"
            ]
          },
          "metadata": {
            "tags": []
          }
        }
      ]
    },
    {
      "metadata": {
        "id": "CzjBpNcbE2MD",
        "colab_type": "code",
        "colab": {}
      },
      "cell_type": "code",
      "source": [
        "# Draw a factor plot to visualize which gender age group wise has more friends\n",
        "\n",
        "fig = plt.figure(figsize=(20,10))\n",
        "sns.factorplot(x='age_group', y='friend_count', hue='gender', data=facebook_data, kind='count', size=10)\n",
        "plt.show()"
      ],
      "execution_count": 0,
      "outputs": []
    },
    {
      "metadata": {
        "id": "8rZMDqlaFeBK",
        "colab_type": "code",
        "colab": {}
      },
      "cell_type": "code",
      "source": [
        ""
      ],
      "execution_count": 0,
      "outputs": []
    },
    {
      "metadata": {
        "id": "hmezPuqqmZwv",
        "colab_type": "code",
        "colab": {}
      },
      "cell_type": "code",
      "source": [
        "def friend_count_cat(row):\n",
        "  if row['friend_count'] > 0 and row['friend_count'] <= 100 :\n",
        "     return 'A'\n",
        "  if row['friend_count'] > 100 and row['friend_count'] <= 200 :\n",
        "     return 'B'\n",
        "  if row['friend_count'] > 200 and row['friend_count'] <= 300 :\n",
        "     return 'C'\n",
        "  if row['friend_count'] > 300 and row['friend_count'] <= 400 :\n",
        "     return 'D'\n",
        "  if row['friend_count'] > 400 and row['friend_count'] <= 500 :\n",
        "     return 'E'\n",
        "  if row['friend_count'] > 500 and row['friend_count'] <= 1000 :\n",
        "     return 'F'\n",
        "  if row['friend_count'] > 1000 and row['friend_count'] <= 2000 :\n",
        "     return 'G'\n",
        "  if row['friend_count'] > 2000:\n",
        "     return 'H'\n",
        "  \n",
        "facebook_data['friend_count_cat'] = facebook_data.apply(lambda row: friend_count_cat(row),axis=1)"
      ],
      "execution_count": 0,
      "outputs": []
    },
    {
      "metadata": {
        "id": "oBqoo_ytofZQ",
        "colab_type": "code",
        "colab": {}
      },
      "cell_type": "code",
      "source": [
        "facebook_data.head()"
      ],
      "execution_count": 0,
      "outputs": []
    },
    {
      "metadata": {
        "id": "uShXpBfHtxDa",
        "colab_type": "code",
        "colab": {}
      },
      "cell_type": "code",
      "source": [
        "fig = plt.figure(figsize=(20,10))\n",
        "pkmn_type_colors = ['#78C850',  # WE\n",
        "                    '#F08030',  # NA\n",
        "                    '#6890F0',  # ANZ\n",
        "                    '#A8B820',  # ME\n",
        "                    '#A8A878',  # LA\n",
        "                    '#A040A0',  # SA\n",
        "                    '#F8D030',  # CEE\n",
        "                    '#E0C068',  # EA\n",
        "                    '#EE99AC',  # SSA\n",
        "                    '#C03028',  # SA\n",
        "                    \n",
        "                   ]\n",
        "sns.countplot(x='friend_count_cat', data=facebook_data, palette=pkmn_type_colors)\n",
        " # Rotate x-labels\n",
        "plt.xticks(rotation=45)"
      ],
      "execution_count": 0,
      "outputs": []
    },
    {
      "metadata": {
        "id": "xMWc97n5tZal",
        "colab_type": "code",
        "colab": {}
      },
      "cell_type": "code",
      "source": [
        "fig = plt.figure(figsize=(20,10))\n",
        "sns.factorplot(x='friend_count_cat', hue='gender', data=facebook_data, kind='count', size=10)\n",
        "plt.show()"
      ],
      "execution_count": 0,
      "outputs": []
    },
    {
      "metadata": {
        "id": "IRvVAJFl6wsp",
        "colab_type": "code",
        "colab": {}
      },
      "cell_type": "code",
      "source": [
        "fig = plt.figure(figsize=(20,10))\n",
        "sns.factorplot(x='friend_count_cat', hue='age_group', data=facebook_data, kind='count', size=10)\n",
        "plt.show()"
      ],
      "execution_count": 0,
      "outputs": []
    },
    {
      "metadata": {
        "id": "OEIi5_As-Ka7",
        "colab_type": "code",
        "colab": {}
      },
      "cell_type": "code",
      "source": [
        "fig = plt.figure(figsize=(20,10))\n",
        "sns.factorplot(x='age_group', hue='friend_count_cat', data=facebook_data, kind='count', size=10)\n",
        "plt.show()"
      ],
      "execution_count": 0,
      "outputs": []
    },
    {
      "metadata": {
        "id": "Sn9_i5J2E7dS",
        "colab_type": "code",
        "colab": {}
      },
      "cell_type": "code",
      "source": [
        "forfactorplot = facebook_data"
      ],
      "execution_count": 0,
      "outputs": []
    },
    {
      "metadata": {
        "id": "doSD7L_OFCKx",
        "colab_type": "code",
        "colab": {}
      },
      "cell_type": "code",
      "source": [
        "forfactorplot['gender_num'] = np.where(forfactorplot.gender == 'male', 1, 0)"
      ],
      "execution_count": 0,
      "outputs": []
    },
    {
      "metadata": {
        "id": "W7OWYMjdFdud",
        "colab_type": "code",
        "colab": {}
      },
      "cell_type": "code",
      "source": [
        "def friend_count_cat_num(row):\n",
        "  if row['friend_count'] > 0 and row['friend_count'] <= 100 :\n",
        "     return '1'\n",
        "  if row['friend_count'] > 100 and row['friend_count'] <= 200 :\n",
        "     return '2'\n",
        "  if row['friend_count'] > 200 and row['friend_count'] <= 300 :\n",
        "     return '3'\n",
        "  if row['friend_count'] > 300 and row['friend_count'] <= 400 :\n",
        "     return '4'\n",
        "  if row['friend_count'] > 400 and row['friend_count'] <= 500 :\n",
        "     return '5'\n",
        "  if row['friend_count'] > 500 and row['friend_count'] <= 1000 :\n",
        "     return '6'\n",
        "  if row['friend_count'] > 1000 and row['friend_count'] <= 2000 :\n",
        "     return '7'\n",
        "  if row['friend_count'] > 2000:\n",
        "     return '8'\n",
        "  \n",
        "forfactorplot['friend_count_cat_num'] = forfactorplot.apply(lambda row: friend_count_cat_num(row),axis=1)"
      ],
      "execution_count": 0,
      "outputs": []
    },
    {
      "metadata": {
        "id": "80imPiPVGMkb",
        "colab_type": "code",
        "colab": {}
      },
      "cell_type": "code",
      "source": [
        "def age_group_num(row):\n",
        "  #print ('hi')\n",
        "  if row['age'] < 20 :\n",
        "     return '20'\n",
        "  if row['age'] >=20 and row['age'] < 40 :\n",
        "     return '40'\n",
        "  if row['age'] >= 40 and row['age'] < 60 :\n",
        "     return '60'\n",
        "  if row['age'] >= 60 and row['age'] < 80:\n",
        "     return '80'\n",
        "  if row['age']  >= 80:\n",
        "     return '100'\n",
        "  return '101'\n",
        "\n",
        "forfactorplot['age_group_num'] = forfactorplot.apply(lambda row: age_group_num(row),axis=1)\n"
      ],
      "execution_count": 0,
      "outputs": []
    },
    {
      "metadata": {
        "id": "CEGFiXebGlvg",
        "colab_type": "code",
        "colab": {}
      },
      "cell_type": "code",
      "source": [
        "forfactorplot.tail()"
      ],
      "execution_count": 0,
      "outputs": []
    },
    {
      "metadata": {
        "id": "fNBBlL8iCXsA",
        "colab_type": "code",
        "colab": {}
      },
      "cell_type": "code",
      "source": [
        "fig = plt.figure(figsize=(20,10))\n",
        "sns.factorplot(x='age_group_num', y='gender_num', hue='friend_count_cat', data=forfactorplot, kind='bar', size=10, aspect=2.5)\n",
        "plt.show()"
      ],
      "execution_count": 0,
      "outputs": []
    },
    {
      "metadata": {
        "id": "hu7xhlzMLTNs",
        "colab_type": "text"
      },
      "cell_type": "markdown",
      "source": [
        "### **Tenure analysis**"
      ]
    },
    {
      "metadata": {
        "id": "-4UOyFfELawn",
        "colab_type": "code",
        "colab": {}
      },
      "cell_type": "code",
      "source": [
        "facebook_data.tenure.describe()"
      ],
      "execution_count": 0,
      "outputs": []
    },
    {
      "metadata": {
        "id": "Nhw9XNU-MCdh",
        "colab_type": "code",
        "colab": {}
      },
      "cell_type": "code",
      "source": [
        "# Analysis of trend YoY - New users onboard\n",
        "\n",
        "fig = plt.figure(figsize=(20,10))\n",
        "\n",
        "bin_edges = [0,365,730,1095,1460,1825,2190,2555,2920]\n",
        "plt.hist(facebook_data['tenure'], bins=bin_edges, facecolor='c', alpha=0.75, rwidth=0.90)\n",
        "plt.xlabel('tenure')\n",
        "plt.ylabel('No of facebook users')\n",
        "plt.grid(True)"
      ],
      "execution_count": 0,
      "outputs": []
    },
    {
      "metadata": {
        "id": "CTop6rtKOsN8",
        "colab_type": "code",
        "colab": {}
      },
      "cell_type": "code",
      "source": [
        "# Analysis of trend YoY - How many new male and female users onboard\n",
        "\n",
        "def tenure_bin(row):\n",
        "  if row['tenure'] <= 365 :\n",
        "     return '1'\n",
        "  if row['tenure'] > 365 and row['tenure'] <= 730 :\n",
        "     return '2'\n",
        "  if row['tenure'] > 730 and row['tenure'] <= 1095 :\n",
        "     return '3'\n",
        "  if row['tenure'] > 1095 and row['tenure'] <= 1460 :\n",
        "     return '4'\n",
        "  if row['tenure'] > 1460 and row['tenure'] <= 1825 :\n",
        "     return '5'\n",
        "  if row['tenure'] > 1825 and row['tenure'] <= 2190 :\n",
        "     return '6'\n",
        "  if row['tenure'] > 2190 and row['tenure'] <= 2555 :\n",
        "     return '7'\n",
        "  if row['tenure'] > 2555:\n",
        "     return '8'\n",
        "  \n",
        "facebook_data['tenure_bin'] = facebook_data.apply(lambda row: tenure_bin(row),axis=1)\n",
        "\n"
      ],
      "execution_count": 0,
      "outputs": []
    },
    {
      "metadata": {
        "id": "6RpjUuHxRhBC",
        "colab_type": "code",
        "colab": {}
      },
      "cell_type": "code",
      "source": [
        "fig = plt.figure(figsize=(20,10))\n",
        "sns.factorplot(x='tenure_bin', hue='gender', data=facebook_data, kind='count', size=10)\n",
        "#sns.\n",
        "plt.show()"
      ],
      "execution_count": 0,
      "outputs": []
    },
    {
      "metadata": {
        "id": "5faHnfqKaz8G",
        "colab_type": "text"
      },
      "cell_type": "markdown",
      "source": [
        "### **Likes analysis**"
      ]
    },
    {
      "metadata": {
        "id": "5L-TNYmta7Sh",
        "colab_type": "code",
        "colab": {}
      },
      "cell_type": "code",
      "source": [
        "facebook_data[['likes',\t'likes_received',\t'mobile_likes',\t'mobile_likes_received',\t'www_likes',\t'www_likes_received']].describe()\t"
      ],
      "execution_count": 0,
      "outputs": []
    },
    {
      "metadata": {
        "id": "sp0cF5prdHkB",
        "colab_type": "code",
        "colab": {}
      },
      "cell_type": "code",
      "source": [
        "# How many users are more active on mobile\n",
        "a = len(facebook_data[(facebook_data['mobile_likes']) > (facebook_data['www_likes'])])\n",
        "print (a)\n",
        "# How many male/female are active on mobile\n",
        "\n",
        "\n",
        "#facebook_data[(facebook_data[(facebook_data['mobile_likes']) > (facebook_data['www_likes'])]) and (facebook_data[facebook_data['gender'] == 'female'])]\n",
        "\n",
        "# Which age group is more active on mobile\n",
        "\n",
        "\n",
        "# Which age group male/female is more active on mobile\n",
        "\n",
        "\n"
      ],
      "execution_count": 0,
      "outputs": []
    }
  ]
}